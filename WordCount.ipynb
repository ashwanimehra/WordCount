{
 "cells": [
  {
   "cell_type": "markdown",
   "metadata": {},
   "source": [
    "# A Tale of Two Cities, by Charles Dickens"
   ]
  },
  {
   "cell_type": "markdown",
   "metadata": {},
   "source": [
    "Objective: We will read and clean the input, then count the frequencies of each word and then display the top 10 most frequently appearing words.\n",
    "\n",
    "    We can also filter out common words (“the”, “this”, “and”, etc.).\n",
    "\n",
    "Approach:\n",
    "\n",
    "- Create a data structure to store the words and the number of occurrences of the word.\n",
    "\n",
    "\n",
    "- Read in each word from the file, making it lower case and removing punctuation. (skipping common words).\n",
    "\n",
    "\n",
    "- For each remaining word, add the word to the data structure or update your count for the word.\n",
    "\n",
    "\n",
    "- Extract the top ten most frequently occurring words from your data structure and print them, along with their frequencies."
   ]
  },
  {
   "cell_type": "code",
   "execution_count": 1,
   "metadata": {},
   "outputs": [],
   "source": [
    "#importing the required packages\n",
    "import collections"
   ]
  },
  {
   "cell_type": "code",
   "execution_count": 2,
   "metadata": {},
   "outputs": [],
   "source": [
    "#accessing the file for the text\n",
    "file = open (\"C:\\\\Users\\\\Ashu\\\\Downloads\\\\Data Science\\\\98-0.txt\",\"r\",encoding = \"UTF-8\")"
   ]
  },
  {
   "cell_type": "code",
   "execution_count": 3,
   "metadata": {},
   "outputs": [],
   "source": [
    "#reading the file and storing the text in lowercase form\n",
    "file_data = file.read().lower()\n",
    "#print(file_data)"
   ]
  },
  {
   "cell_type": "code",
   "execution_count": 4,
   "metadata": {},
   "outputs": [],
   "source": [
    "#creating a sample by splitting all the words in the file\n",
    "sample= file_data.split()\n",
    "#print(sample)"
   ]
  },
  {
   "cell_type": "code",
   "execution_count": 5,
   "metadata": {},
   "outputs": [],
   "source": [
    "#creating the data structure for the purpose of storing the words\n",
    "word_count={}\n",
    "stopwords=[] #you can add the stopwords here "
   ]
  },
  {
   "cell_type": "code",
   "execution_count": 6,
   "metadata": {},
   "outputs": [],
   "source": [
    "#Instantiate a dictionary, and for every word in the file, add to \n",
    "# the dictionary if it doesn't exist. If it does, increase the count\n",
    "for word in sample:\n",
    "    word = word.replace(\".\",\"\")\n",
    "    word = word.replace(\",\",\"\")\n",
    "    word = word.replace(\"\\\"\",\"\")\n",
    "    word = word.replace(\"“\",\"\")\n",
    "    if word not in stopwords:\n",
    "        if word not in word_count:\n",
    "            word_count[word] = 1\n",
    "        else:\n",
    "            word_count[word] += 1"
   ]
  },
  {
   "cell_type": "code",
   "execution_count": 7,
   "metadata": {},
   "outputs": [],
   "source": [
    "# after building wordcount, we can then sort it and return the first\n",
    "# n word,using collections.Counter.\n",
    "\n",
    "data = collections.Counter(word_count)\n",
    "#print (d)"
   ]
  },
  {
   "cell_type": "code",
   "execution_count": 8,
   "metadata": {
    "scrolled": true
   },
   "outputs": [
    {
     "name": "stdout",
     "output_type": "stream",
     "text": [
      "the :  8177\n",
      "and :  4984\n",
      "of :  4122\n",
      "to :  3536\n",
      "a :  2976\n",
      "in :  2612\n",
      "his :  1998\n",
      "it :  1879\n",
      "i :  1872\n",
      "that :  1861\n"
     ]
    }
   ],
   "source": [
    "#finding out the most common words using the collections method: .most_common(n), and printng them.\n",
    "for word, count in data.most_common(10):\n",
    "    print(word, \": \", count)\n"
   ]
  }
 ],
 "metadata": {
  "kernelspec": {
   "display_name": "Python 3",
   "language": "python",
   "name": "python3"
  },
  "language_info": {
   "codemirror_mode": {
    "name": "ipython",
    "version": 3
   },
   "file_extension": ".py",
   "mimetype": "text/x-python",
   "name": "python",
   "nbconvert_exporter": "python",
   "pygments_lexer": "ipython3",
   "version": "3.6.5"
  }
 },
 "nbformat": 4,
 "nbformat_minor": 2
}
